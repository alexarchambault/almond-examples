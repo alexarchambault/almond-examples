{
  "nbformat": 4,
  "nbformat_minor": 0,
  "metadata": {
    "colab": {
      "name": "install almond.ipynb",
      "version": "0.3.2",
      "provenance": [],
      "collapsed_sections": []
    },
    "kernelspec": {
      "name": "python3",
      "display_name": "Python 3"
    }
  },
  "cells": [
    {
      "metadata": {
        "id": "5JmG6NxChEg7",
        "colab_type": "code",
        "outputId": "9929675c-065f-49ee-8d6b-18c13a90d50e",
        "colab": {
          "base_uri": "https://localhost:8080/",
          "height": 104
        }
      },
      "cell_type": "code",
      "source": [
        "!curl -Lo coursier https://git.io/coursier-cli"
      ],
      "execution_count": 1,
      "outputs": [
        {
          "output_type": "stream",
          "text": [
            "  % Total    % Received % Xferd  Average Speed   Time    Time     Time  Current\n",
            "                                 Dload  Upload   Total   Spent    Left  Speed\n",
            "  0     0    0     0    0     0      0      0 --:--:--  0:00:05 --:--:--     0\n",
            "100   135  100   135    0     0     23      0  0:00:05  0:00:05 --:--:--    23\n",
            "100 18487  100 18487    0     0   3155      0  0:00:05  0:00:05 --:--:--  3155\n"
          ],
          "name": "stdout"
        }
      ]
    },
    {
      "metadata": {
        "id": "CGkG9hSyhgLA",
        "colab_type": "code",
        "colab": {}
      },
      "cell_type": "code",
      "source": [
        "!chmod +x coursier"
      ],
      "execution_count": 0,
      "outputs": []
    },
    {
      "metadata": {
        "id": "uTdj7VXWhh3C",
        "colab_type": "code",
        "outputId": "0cd3c411-eb29-40e5-bb0c-b1df27839668",
        "colab": {
          "base_uri": "https://localhost:8080/",
          "height": 34
        }
      },
      "cell_type": "code",
      "source": [
        "!./coursier bootstrap \\\n",
        "    -r jitpack \\\n",
        "    -i user -I user:sh.almond:scala-kernel-api_2.12.8:0.3.1 \\\n",
        "    sh.almond:scala-kernel_2.12.8:0.3.1 \\\n",
        "    --default=true --sources \\\n",
        "    -o almond"
      ],
      "execution_count": 3,
      "outputs": [
        {
          "output_type": "stream",
          "text": [
            "\u001b[2KDownloaded 1 missing file(s) / 1\n",
            "\u001b[1A\u001b[2K"
          ],
          "name": "stdout"
        }
      ]
    },
    {
      "metadata": {
        "id": "PiyUOrm4hprJ",
        "colab_type": "code",
        "outputId": "e89195b6-fa89-460d-91b6-403ba011a262",
        "colab": {
          "base_uri": "https://localhost:8080/",
          "height": 86
        }
      },
      "cell_type": "code",
      "source": [
        "!ls -lh"
      ],
      "execution_count": 4,
      "outputs": [
        {
          "output_type": "stream",
          "text": [
            "total 48K\n",
            "-rwxr-xr-x 1 root root  21K Mar 11 13:33 almond\n",
            "-rwxr-xr-x 1 root root  19K Mar 11 13:33 coursier\n",
            "drwxr-xr-x 1 root root 4.0K Feb 26 17:33 sample_data\n"
          ],
          "name": "stdout"
        }
      ]
    },
    {
      "metadata": {
        "id": "whL1jiychuSU",
        "colab_type": "code",
        "outputId": "bc507ce4-4b90-477e-d94e-d888fc6f1c7d",
        "colab": {
          "base_uri": "https://localhost:8080/",
          "height": 34
        }
      },
      "cell_type": "code",
      "source": [
        "!./almond --install --global"
      ],
      "execution_count": 5,
      "outputs": [
        {
          "output_type": "stream",
          "text": [
            "Installed scala kernel under /usr/local/share/jupyter/kernels/scala\n"
          ],
          "name": "stdout"
        }
      ]
    },
    {
      "metadata": {
        "id": "JnrYh6yjh3GU",
        "colab_type": "code",
        "outputId": "f0407e94-efec-49a0-e61c-71a7f9f37c6b",
        "colab": {
          "base_uri": "https://localhost:8080/",
          "height": 121
        }
      },
      "cell_type": "code",
      "source": [
        "!jupyter kernelspec list"
      ],
      "execution_count": 6,
      "outputs": [
        {
          "output_type": "stream",
          "text": [
            "Available kernels:\n",
            "  ir         /usr/local/share/jupyter/kernels/ir\n",
            "  python2    /usr/local/share/jupyter/kernels/python2\n",
            "  python3    /usr/local/share/jupyter/kernels/python3\n",
            "  scala      /usr/local/share/jupyter/kernels/scala\n",
            "  swift      /usr/local/share/jupyter/kernels/swift\n"
          ],
          "name": "stdout"
        }
      ]
    },
    {
      "metadata": {
        "id": "1uoXAeIikA6e",
        "colab_type": "code",
        "colab": {}
      },
      "cell_type": "code",
      "source": [
        ""
      ],
      "execution_count": 0,
      "outputs": []
    }
  ]
}