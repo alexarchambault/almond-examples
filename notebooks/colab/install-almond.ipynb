{
  "nbformat": 4,
  "nbformat_minor": 0,
  "metadata": {
    "colab": {
      "name": "install almond.ipynb",
      "version": "0.3.2",
      "provenance": []
    },
    "kernelspec": {
      "name": "python3",
      "display_name": "Python 3"
    }
  },
  "cells": [
    {
      "metadata": {
        "id": "uAP5Ti_OhCsV",
        "colab_type": "code",
        "outputId": "2f3bd9f4-9ede-49c3-b7f1-2bddc0c43f1f",
        "colab": {
          "base_uri": "https://localhost:8080/",
          "height": 69
        }
      },
      "cell_type": "code",
      "source": [
        "!java -version"
      ],
      "execution_count": 0,
      "outputs": [
        {
          "output_type": "stream",
          "text": [
            "openjdk version \"10.0.2\" 2018-07-17\n",
            "OpenJDK Runtime Environment (build 10.0.2+13-Ubuntu-1ubuntu0.18.04.4)\n",
            "OpenJDK 64-Bit Server VM (build 10.0.2+13-Ubuntu-1ubuntu0.18.04.4, mixed mode)\n"
          ],
          "name": "stdout"
        }
      ]
    },
    {
      "metadata": {
        "id": "5JmG6NxChEg7",
        "colab_type": "code",
        "outputId": "fa4e8755-3381-4d4a-cff8-806e9174453b",
        "colab": {
          "base_uri": "https://localhost:8080/",
          "height": 104
        }
      },
      "cell_type": "code",
      "source": [
        "!curl -Lo coursier https://git.io/coursier-cli"
      ],
      "execution_count": 0,
      "outputs": [
        {
          "output_type": "stream",
          "text": [
            "  % Total    % Received % Xferd  Average Speed   Time    Time     Time  Current\n",
            "                                 Dload  Upload   Total   Spent    Left  Speed\n",
            "  0     0    0     0    0     0      0      0 --:--:--  0:00:05 --:--:--     0\n",
            "100   135  100   135    0     0     21      0  0:00:06  0:00:06 --:--:--    21\n",
            "100 18487  100 18487    0     0   2918      0  0:00:06  0:00:06 --:--:--  2918\n"
          ],
          "name": "stdout"
        }
      ]
    },
    {
      "metadata": {
        "id": "CGkG9hSyhgLA",
        "colab_type": "code",
        "colab": {}
      },
      "cell_type": "code",
      "source": [
        "!chmod +x coursier"
      ],
      "execution_count": 0,
      "outputs": []
    },
    {
      "metadata": {
        "id": "uTdj7VXWhh3C",
        "colab_type": "code",
        "outputId": "5c732d22-3a1e-4f9b-e4c6-babb775febd6",
        "colab": {
          "base_uri": "https://localhost:8080/",
          "height": 34
        }
      },
      "cell_type": "code",
      "source": [
        "!./coursier bootstrap \\\n",
        "    -r jitpack \\\n",
        "    -i user -I user:sh.almond:scala-kernel-api_2.12.8:0.3.1 \\\n",
        "    sh.almond:scala-kernel_2.12.8:0.3.1 \\\n",
        "    -o almond"
      ],
      "execution_count": 0,
      "outputs": [
        {
          "output_type": "stream",
          "text": [
            "\u001b[2KDownloaded 1 missing file(s) / 1\n",
            "\u001b[1A\u001b[2K"
          ],
          "name": "stdout"
        }
      ]
    },
    {
      "metadata": {
        "id": "PiyUOrm4hprJ",
        "colab_type": "code",
        "outputId": "0aadf79a-455f-4661-bc53-0a184b4363c7",
        "colab": {
          "base_uri": "https://localhost:8080/",
          "height": 86
        }
      },
      "cell_type": "code",
      "source": [
        "!ls -lh"
      ],
      "execution_count": 0,
      "outputs": [
        {
          "output_type": "stream",
          "text": [
            "total 48K\n",
            "-rwxr-xr-x 1 root root  21K Mar  8 13:44 almond\n",
            "-rwxr-xr-x 1 root root  19K Mar  8 13:43 coursier\n",
            "drwxr-xr-x 1 root root 4.0K Feb 26 17:33 sample_data\n"
          ],
          "name": "stdout"
        }
      ]
    },
    {
      "metadata": {
        "id": "whL1jiychuSU",
        "colab_type": "code",
        "outputId": "d8a701a4-7ef5-4da6-d4a9-f07dbfa22cbb",
        "colab": {
          "base_uri": "https://localhost:8080/",
          "height": 34
        }
      },
      "cell_type": "code",
      "source": [
        "!./almond --install"
      ],
      "execution_count": 0,
      "outputs": [
        {
          "output_type": "stream",
          "text": [
            "Installed scala kernel under /root/.local/share/jupyter/kernels/scala\n"
          ],
          "name": "stdout"
        }
      ]
    },
    {
      "metadata": {
        "id": "4wj5angshv4Q",
        "colab_type": "code",
        "outputId": "3e216d83-e6f8-4eac-ba77-5e7a902ab6cd",
        "colab": {
          "base_uri": "https://localhost:8080/",
          "height": 34
        }
      },
      "cell_type": "code",
      "source": [
        "!jupyter kernelspec install /root/.local/share/jupyter/kernels/scala"
      ],
      "execution_count": 0,
      "outputs": [
        {
          "output_type": "stream",
          "text": [
            "[InstallKernelSpec] Installed kernelspec scala in /usr/local/share/jupyter/kernels/scala\n"
          ],
          "name": "stdout"
        }
      ]
    },
    {
      "metadata": {
        "id": "JnrYh6yjh3GU",
        "colab_type": "code",
        "outputId": "5e56b994-5b94-4875-9206-26259d572b4a",
        "colab": {
          "base_uri": "https://localhost:8080/",
          "height": 121
        }
      },
      "cell_type": "code",
      "source": [
        "!jupyter kernelspec list"
      ],
      "execution_count": 0,
      "outputs": [
        {
          "output_type": "stream",
          "text": [
            "Available kernels:\n",
            "  scala      /root/.local/share/jupyter/kernels/scala\n",
            "  ir         /usr/local/share/jupyter/kernels/ir\n",
            "  python2    /usr/local/share/jupyter/kernels/python2\n",
            "  python3    /usr/local/share/jupyter/kernels/python3\n",
            "  swift      /usr/local/share/jupyter/kernels/swift\n"
          ],
          "name": "stdout"
        }
      ]
    },
    {
      "metadata": {
        "id": "1uoXAeIikA6e",
        "colab_type": "code",
        "colab": {}
      },
      "cell_type": "code",
      "source": [
        ""
      ],
      "execution_count": 0,
      "outputs": []
    }
  ]
}